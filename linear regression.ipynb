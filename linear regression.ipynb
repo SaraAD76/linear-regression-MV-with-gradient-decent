{
  "cells": [
    {
      "cell_type": "markdown",
      "source": [
        "#Multiple variables linear regression"
      ],
      "metadata": {
        "id": "pcS6001O-G1d"
      }
    },
    {
      "cell_type": "markdown",
      "metadata": {
        "id": "Tv6ztL1PMuBm"
      },
      "source": [
        "#Data preprocessing"
      ]
    },
    {
      "cell_type": "code",
      "execution_count": 1,
      "metadata": {
        "id": "5N1LE6L-KC30"
      },
      "outputs": [],
      "source": [
        "import pandas as pd\n",
        "from sklearn import preprocessing as preprocessing\n",
        "from sklearn.model_selection import train_test_split as split\n",
        "import numpy as np \n",
        "import matplotlib.pyplot as plt\n"
      ]
    },
    {
      "cell_type": "code",
      "execution_count": 2,
      "metadata": {
        "id": "9OpW5PiQKKej"
      },
      "outputs": [],
      "source": [
        "dataset = pd.read_csv('/sgemm_product.csv')\n"
      ]
    },
    {
      "cell_type": "code",
      "execution_count": 3,
      "metadata": {
        "colab": {
          "base_uri": "https://localhost:8080/",
          "height": 206
        },
        "id": "ZetBlpkSKNA1",
        "outputId": "33e2775d-9901-4c63-c0ea-d50274d69cda"
      },
      "outputs": [
        {
          "output_type": "execute_result",
          "data": {
            "text/plain": [
              "   MWG  NWG  KWG  MDIMC  NDIMC  MDIMA  NDIMB  KWI  VWM  VWN  STRM  STRN  SA  \\\n",
              "0   16   16   16      8      8      8      8    2    1    1     0     0   0   \n",
              "1   16   16   16      8      8      8      8    2    1    1     0     0   0   \n",
              "2   16   16   16      8      8      8      8    2    1    1     0     0   1   \n",
              "3   16   16   16      8      8      8      8    2    1    1     0     0   1   \n",
              "4   16   16   16      8      8      8      8    2    1    1     0     1   0   \n",
              "\n",
              "   SB  Run_average  \n",
              "0   0     116.3700  \n",
              "1   1      78.7050  \n",
              "2   0      80.5650  \n",
              "3   1      86.6375  \n",
              "4   0     118.6625  "
            ],
            "text/html": [
              "\n",
              "  <div id=\"df-64a074f4-4a6c-4aca-bca1-19ddf86f4e0c\">\n",
              "    <div class=\"colab-df-container\">\n",
              "      <div>\n",
              "<style scoped>\n",
              "    .dataframe tbody tr th:only-of-type {\n",
              "        vertical-align: middle;\n",
              "    }\n",
              "\n",
              "    .dataframe tbody tr th {\n",
              "        vertical-align: top;\n",
              "    }\n",
              "\n",
              "    .dataframe thead th {\n",
              "        text-align: right;\n",
              "    }\n",
              "</style>\n",
              "<table border=\"1\" class=\"dataframe\">\n",
              "  <thead>\n",
              "    <tr style=\"text-align: right;\">\n",
              "      <th></th>\n",
              "      <th>MWG</th>\n",
              "      <th>NWG</th>\n",
              "      <th>KWG</th>\n",
              "      <th>MDIMC</th>\n",
              "      <th>NDIMC</th>\n",
              "      <th>MDIMA</th>\n",
              "      <th>NDIMB</th>\n",
              "      <th>KWI</th>\n",
              "      <th>VWM</th>\n",
              "      <th>VWN</th>\n",
              "      <th>STRM</th>\n",
              "      <th>STRN</th>\n",
              "      <th>SA</th>\n",
              "      <th>SB</th>\n",
              "      <th>Run_average</th>\n",
              "    </tr>\n",
              "  </thead>\n",
              "  <tbody>\n",
              "    <tr>\n",
              "      <th>0</th>\n",
              "      <td>16</td>\n",
              "      <td>16</td>\n",
              "      <td>16</td>\n",
              "      <td>8</td>\n",
              "      <td>8</td>\n",
              "      <td>8</td>\n",
              "      <td>8</td>\n",
              "      <td>2</td>\n",
              "      <td>1</td>\n",
              "      <td>1</td>\n",
              "      <td>0</td>\n",
              "      <td>0</td>\n",
              "      <td>0</td>\n",
              "      <td>0</td>\n",
              "      <td>116.3700</td>\n",
              "    </tr>\n",
              "    <tr>\n",
              "      <th>1</th>\n",
              "      <td>16</td>\n",
              "      <td>16</td>\n",
              "      <td>16</td>\n",
              "      <td>8</td>\n",
              "      <td>8</td>\n",
              "      <td>8</td>\n",
              "      <td>8</td>\n",
              "      <td>2</td>\n",
              "      <td>1</td>\n",
              "      <td>1</td>\n",
              "      <td>0</td>\n",
              "      <td>0</td>\n",
              "      <td>0</td>\n",
              "      <td>1</td>\n",
              "      <td>78.7050</td>\n",
              "    </tr>\n",
              "    <tr>\n",
              "      <th>2</th>\n",
              "      <td>16</td>\n",
              "      <td>16</td>\n",
              "      <td>16</td>\n",
              "      <td>8</td>\n",
              "      <td>8</td>\n",
              "      <td>8</td>\n",
              "      <td>8</td>\n",
              "      <td>2</td>\n",
              "      <td>1</td>\n",
              "      <td>1</td>\n",
              "      <td>0</td>\n",
              "      <td>0</td>\n",
              "      <td>1</td>\n",
              "      <td>0</td>\n",
              "      <td>80.5650</td>\n",
              "    </tr>\n",
              "    <tr>\n",
              "      <th>3</th>\n",
              "      <td>16</td>\n",
              "      <td>16</td>\n",
              "      <td>16</td>\n",
              "      <td>8</td>\n",
              "      <td>8</td>\n",
              "      <td>8</td>\n",
              "      <td>8</td>\n",
              "      <td>2</td>\n",
              "      <td>1</td>\n",
              "      <td>1</td>\n",
              "      <td>0</td>\n",
              "      <td>0</td>\n",
              "      <td>1</td>\n",
              "      <td>1</td>\n",
              "      <td>86.6375</td>\n",
              "    </tr>\n",
              "    <tr>\n",
              "      <th>4</th>\n",
              "      <td>16</td>\n",
              "      <td>16</td>\n",
              "      <td>16</td>\n",
              "      <td>8</td>\n",
              "      <td>8</td>\n",
              "      <td>8</td>\n",
              "      <td>8</td>\n",
              "      <td>2</td>\n",
              "      <td>1</td>\n",
              "      <td>1</td>\n",
              "      <td>0</td>\n",
              "      <td>1</td>\n",
              "      <td>0</td>\n",
              "      <td>0</td>\n",
              "      <td>118.6625</td>\n",
              "    </tr>\n",
              "  </tbody>\n",
              "</table>\n",
              "</div>\n",
              "      <button class=\"colab-df-convert\" onclick=\"convertToInteractive('df-64a074f4-4a6c-4aca-bca1-19ddf86f4e0c')\"\n",
              "              title=\"Convert this dataframe to an interactive table.\"\n",
              "              style=\"display:none;\">\n",
              "        \n",
              "  <svg xmlns=\"http://www.w3.org/2000/svg\" height=\"24px\"viewBox=\"0 0 24 24\"\n",
              "       width=\"24px\">\n",
              "    <path d=\"M0 0h24v24H0V0z\" fill=\"none\"/>\n",
              "    <path d=\"M18.56 5.44l.94 2.06.94-2.06 2.06-.94-2.06-.94-.94-2.06-.94 2.06-2.06.94zm-11 1L8.5 8.5l.94-2.06 2.06-.94-2.06-.94L8.5 2.5l-.94 2.06-2.06.94zm10 10l.94 2.06.94-2.06 2.06-.94-2.06-.94-.94-2.06-.94 2.06-2.06.94z\"/><path d=\"M17.41 7.96l-1.37-1.37c-.4-.4-.92-.59-1.43-.59-.52 0-1.04.2-1.43.59L10.3 9.45l-7.72 7.72c-.78.78-.78 2.05 0 2.83L4 21.41c.39.39.9.59 1.41.59.51 0 1.02-.2 1.41-.59l7.78-7.78 2.81-2.81c.8-.78.8-2.07 0-2.86zM5.41 20L4 18.59l7.72-7.72 1.47 1.35L5.41 20z\"/>\n",
              "  </svg>\n",
              "      </button>\n",
              "      \n",
              "  <style>\n",
              "    .colab-df-container {\n",
              "      display:flex;\n",
              "      flex-wrap:wrap;\n",
              "      gap: 12px;\n",
              "    }\n",
              "\n",
              "    .colab-df-convert {\n",
              "      background-color: #E8F0FE;\n",
              "      border: none;\n",
              "      border-radius: 50%;\n",
              "      cursor: pointer;\n",
              "      display: none;\n",
              "      fill: #1967D2;\n",
              "      height: 32px;\n",
              "      padding: 0 0 0 0;\n",
              "      width: 32px;\n",
              "    }\n",
              "\n",
              "    .colab-df-convert:hover {\n",
              "      background-color: #E2EBFA;\n",
              "      box-shadow: 0px 1px 2px rgba(60, 64, 67, 0.3), 0px 1px 3px 1px rgba(60, 64, 67, 0.15);\n",
              "      fill: #174EA6;\n",
              "    }\n",
              "\n",
              "    [theme=dark] .colab-df-convert {\n",
              "      background-color: #3B4455;\n",
              "      fill: #D2E3FC;\n",
              "    }\n",
              "\n",
              "    [theme=dark] .colab-df-convert:hover {\n",
              "      background-color: #434B5C;\n",
              "      box-shadow: 0px 1px 3px 1px rgba(0, 0, 0, 0.15);\n",
              "      filter: drop-shadow(0px 1px 2px rgba(0, 0, 0, 0.3));\n",
              "      fill: #FFFFFF;\n",
              "    }\n",
              "  </style>\n",
              "\n",
              "      <script>\n",
              "        const buttonEl =\n",
              "          document.querySelector('#df-64a074f4-4a6c-4aca-bca1-19ddf86f4e0c button.colab-df-convert');\n",
              "        buttonEl.style.display =\n",
              "          google.colab.kernel.accessAllowed ? 'block' : 'none';\n",
              "\n",
              "        async function convertToInteractive(key) {\n",
              "          const element = document.querySelector('#df-64a074f4-4a6c-4aca-bca1-19ddf86f4e0c');\n",
              "          const dataTable =\n",
              "            await google.colab.kernel.invokeFunction('convertToInteractive',\n",
              "                                                     [key], {});\n",
              "          if (!dataTable) return;\n",
              "\n",
              "          const docLinkHtml = 'Like what you see? Visit the ' +\n",
              "            '<a target=\"_blank\" href=https://colab.research.google.com/notebooks/data_table.ipynb>data table notebook</a>'\n",
              "            + ' to learn more about interactive tables.';\n",
              "          element.innerHTML = '';\n",
              "          dataTable['output_type'] = 'display_data';\n",
              "          await google.colab.output.renderOutput(dataTable, element);\n",
              "          const docLink = document.createElement('div');\n",
              "          docLink.innerHTML = docLinkHtml;\n",
              "          element.appendChild(docLink);\n",
              "        }\n",
              "      </script>\n",
              "    </div>\n",
              "  </div>\n",
              "  "
            ]
          },
          "metadata": {},
          "execution_count": 3
        }
      ],
      "source": [
        "dataset['Run_average'] =  dataset[['Run1 (ms)', 'Run2 (ms)','Run3 (ms)','Run4 (ms)']].mean(axis=1)\n",
        "dataset.drop(['Run1 (ms)', 'Run2 (ms)','Run3 (ms)','Run4 (ms)'],axis=1)\n",
        "dataset = dataset.drop(['Run1 (ms)', 'Run2 (ms)','Run3 (ms)','Run4 (ms)'],axis=1)\n",
        "dataset.dropna()\n",
        "dataset.head()"
      ]
    },
    {
      "cell_type": "code",
      "execution_count": 4,
      "metadata": {
        "id": "GBBFg9jiKXJA"
      },
      "outputs": [],
      "source": [
        "# splitting data\n",
        "X = dataset.iloc[:, 0:-1]\n",
        "y = dataset.iloc[:, -1]\n",
        "X_train, X_test, y_train, y_test = split(X, y, test_size=0.33)"
      ]
    },
    {
      "cell_type": "code",
      "execution_count": 5,
      "metadata": {
        "id": "45Zhxza4KgJi"
      },
      "outputs": [],
      "source": [
        "# applying mean normalization on X\n",
        "X_train=(X_train-X_train.mean())/X_train.std()\n",
        "X_test=(X_test-X_test.mean())/X_test.std()\n"
      ]
    },
    {
      "cell_type": "code",
      "execution_count": 6,
      "metadata": {
        "id": "0parE_dtKzJU"
      },
      "outputs": [],
      "source": [
        "#To take into account the intercept, add an additional first column to X set to 1\n",
        "X_train = np.append(np.ones((len(X_train),1)),X_train, axis=1)\n",
        "X_test = np.append(np.ones((len(X_test),1)),X_test, axis=1)\n"
      ]
    },
    {
      "cell_type": "markdown",
      "metadata": {
        "id": "vRlSJIG9Mm80"
      },
      "source": [
        "#Gradient decent"
      ]
    },
    {
      "cell_type": "code",
      "execution_count": 7,
      "metadata": {
        "id": "pOF71rmVLKqF"
      },
      "outputs": [],
      "source": [
        "def predict(X,weights):\n",
        "    return np.matmul(X,weights)"
      ]
    },
    {
      "cell_type": "code",
      "execution_count": 8,
      "metadata": {
        "id": "WWIc3NKZLLkd"
      },
      "outputs": [],
      "source": [
        "def computeCost(X, y, weights):\n",
        "    #this is Xtranspose dot theta\n",
        "    predictions = predict(X,weights)\n",
        "    #errors\n",
        "    subtraction = np.subtract(predictions, y)\n",
        "    #squared errors\n",
        "    squaredErrors = np.square(subtraction)\n",
        "    #final cost\n",
        "    MSE = 1 / (2 * len(X)) * np.sum(squaredErrors)\n",
        "    return MSE"
      ]
    },
    {
      "cell_type": "code",
      "execution_count": 9,
      "metadata": {
        "id": "9tMLkrMGLSwA"
      },
      "outputs": [],
      "source": [
        "def gradient_descent(X, y, weights, learning_rate, iterations):\n",
        "    errorPerIteration = np.zeros(iterations)\n",
        "    \n",
        "    for i in range(iterations):\n",
        "      predictions= predict(X,weights)\n",
        "      errors = np.subtract(predictions, y)\n",
        "      sum_delta = (learning_rate / len(X)) *np.matmul(X.transpose(),errors)\n",
        "      weights = np.subtract(weights, sum_delta)\n",
        "      errorPerIteration[i] = computeCost(X, y, weights) \n",
        "        \n",
        "    return weights, errorPerIteration"
      ]
    },
    {
      "cell_type": "code",
      "execution_count": 10,
      "metadata": {
        "id": "YjdXbVboLWw3"
      },
      "outputs": [],
      "source": [
        "weights = np.ones(15)\n",
        "iterations = 500\n",
        "learning_rate = 0.15\n",
        "weights, errorPerIteration = gradient_descent(X_train, y_train, weights, learning_rate, iterations)"
      ]
    },
    {
      "cell_type": "code",
      "execution_count": 11,
      "metadata": {
        "colab": {
          "base_uri": "https://localhost:8080/"
        },
        "id": "J2jsBCD1zqR7",
        "outputId": "507ab087-b60a-4a8e-d82c-375919a6139a"
      },
      "outputs": [
        {
          "output_type": "stream",
          "name": "stdout",
          "text": [
            "[ 216.42985643  141.25397776  129.29550929   40.17115942 -129.90714452\n",
            " -128.1344881     8.90691736    9.04440891   11.62327878   -3.78480575\n",
            "   -6.00949278   -4.78727973    0.70444068   19.40279933   22.83802435]\n"
          ]
        }
      ],
      "source": [
        "print(weights)"
      ]
    },
    {
      "cell_type": "code",
      "source": [
        "plt.plot(range(1, iterations +1), errorPerIteration, color ='purple', label = 'learning_rate = 0.15')\n",
        "\n",
        "plt.rcParams[\"figure.figsize\"] = (10,6)\n",
        "plt.grid()\n",
        "plt.ylabel(\"cost (J)\")\n",
        "plt.xlabel(\"Number of iterations\")\n",
        "plt.title(\"Effect of Learning Rate On Convergence of Gradient Descent\")\n",
        "plt.legend()\n"
      ],
      "metadata": {
        "colab": {
          "base_uri": "https://localhost:8080/",
          "height": 312
        },
        "id": "T58Jb4SA6paf",
        "outputId": "abbcdece-172b-49db-a463-b5581da6c984"
      },
      "execution_count": 15,
      "outputs": [
        {
          "output_type": "execute_result",
          "data": {
            "text/plain": [
              "<matplotlib.legend.Legend at 0x7fb7a21549d0>"
            ]
          },
          "metadata": {},
          "execution_count": 15
        },
        {
          "output_type": "display_data",
          "data": {
            "text/plain": [
              "<Figure size 432x288 with 1 Axes>"
            ],
            "image/png": "[encoded data removed]"
          },
          "metadata": {
            "needs_background": "light"
          }
        }
      ]
    },
    {
      "cell_type": "code",
      "source": [
        "plt.plot(range(0, 50), errorPerIteration[0:50], color ='purple', label = 'learning_rate = 0.15')\n",
        "\n",
        "plt.rcParams[\"figure.figsize\"] = (10,6)\n",
        "plt.grid()\n",
        "plt.ylabel(\"cost (J)\")\n",
        "plt.xlabel(\"Number of iterations\")\n",
        "plt.title(\"Effect of Learning Rate On Convergence of Gradient Descent\")\n",
        "plt.legend()\n"
      ],
      "metadata": {
        "colab": {
          "base_uri": "https://localhost:8080/",
          "height": 421
        },
        "id": "wPosyEJM7dob",
        "outputId": "7ea5ffff-f802-47b4-cb86-eb090929d66d"
      },
      "execution_count": 16,
      "outputs": [
        {
          "output_type": "execute_result",
          "data": {
            "text/plain": [
              "<matplotlib.legend.Legend at 0x7fb7a206f700>"
            ]
          },
          "metadata": {},
          "execution_count": 16
        },
        {
          "output_type": "display_data",
          "data": {
            "text/plain": [
              "<Figure size 720x432 with 1 Axes>"
            ],
            "image/png": "[encoded data removed]"
          },
          "metadata": {
            "needs_background": "light"
          }
        }
      ]
    },
    {
      "cell_type": "markdown",
      "source": [
        "#Predict on testing set"
      ],
      "metadata": {
        "id": "EhqMYYadu1Kd"
      }
    },
    {
      "cell_type": "code",
      "source": [
        "testPredictions = predict(X_test,weights)\n",
        "error= computeCost(X_test,y_test,weights) "
      ],
      "metadata": {
        "id": "hxjkOo22ua0r"
      },
      "execution_count": 13,
      "outputs": []
    },
    {
      "cell_type": "code",
      "source": [
        "print(error)"
      ],
      "metadata": {
        "colab": {
          "base_uri": "https://localhost:8080/"
        },
        "id": "AuBxhC7Yv0fi",
        "outputId": "098ca921-36b1-416c-b183-cb1bc6e3bf80"
      },
      "execution_count": 14,
      "outputs": [
        {
          "output_type": "stream",
          "name": "stdout",
          "text": [
            "41467.21842897321\n"
          ]
        }
      ]
    },
    {
      "cell_type": "code",
      "source": [],
      "metadata": {
        "id": "VMwolwJq-DD8"
      },
      "execution_count": null,
      "outputs": []
    }
  ],
  "metadata": {
    "colab": {
      "provenance": []
    },
    "kernelspec": {
      "display_name": "Python 3",
      "name": "python3"
    },
    "language_info": {
      "name": "python"
    }
  },
  "nbformat": 4,
  "nbformat_minor": 0
}